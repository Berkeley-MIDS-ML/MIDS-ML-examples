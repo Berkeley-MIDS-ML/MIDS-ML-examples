{
 "metadata": {
  "name": "",
  "signature": "sha256:f4f451cb538d41a1e80eafeb2f57d522bf2e51d4923254f58fffd91ae86d4a7a"
 },
 "nbformat": 3,
 "nbformat_minor": 0,
 "worksheets": [
  {
   "cells": [
    {
     "cell_type": "markdown",
     "metadata": {},
     "source": [
      "# Looping can be done more directly"
     ]
    },
    {
     "cell_type": "code",
     "collapsed": false,
     "input": [
      "# \"C\"-style loop\n",
      "labels = ['up', 'mid', 'down']\n",
      "for i in range(len(labels)):\n",
      "    print labels[i]"
     ],
     "language": "python",
     "metadata": {},
     "outputs": [
      {
       "output_type": "stream",
       "stream": "stdout",
       "text": [
        "up\n",
        "mid\n",
        "down\n"
       ]
      }
     ],
     "prompt_number": 2
    },
    {
     "cell_type": "code",
     "collapsed": false,
     "input": [
      "for l in labels:\n",
      "    print l"
     ],
     "language": "python",
     "metadata": {},
     "outputs": [
      {
       "output_type": "stream",
       "stream": "stdout",
       "text": [
        "up\n",
        "mid\n",
        "down\n"
       ]
      }
     ],
     "prompt_number": 3
    },
    {
     "cell_type": "code",
     "collapsed": false,
     "input": [
      "for i, l in enumerate(labels):\n",
      "    print '{}th: {}'.format(i, l)"
     ],
     "language": "python",
     "metadata": {},
     "outputs": [
      {
       "output_type": "stream",
       "stream": "stdout",
       "text": [
        "0th: up\n",
        "1th: mid\n",
        "2th: down\n"
       ]
      }
     ],
     "prompt_number": 4
    },
    {
     "cell_type": "markdown",
     "metadata": {},
     "source": [
      "ANSWER: The above was my favorite"
     ]
    },
    {
     "cell_type": "code",
     "collapsed": false,
     "input": [],
     "language": "python",
     "metadata": {},
     "outputs": []
    }
   ],
   "metadata": {}
  }
 ]
}